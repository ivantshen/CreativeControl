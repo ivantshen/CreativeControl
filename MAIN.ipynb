{
 "cells": [
  {
   "cell_type": "code",
   "execution_count": 1,
   "id": "67a0b91f-1ab1-423d-890d-3c0f4e3c6836",
   "metadata": {},
   "outputs": [],
   "source": [
    "import site\n",
    "site.addsitedir('Lib/site-packages')\n",
    "from dotenv import load_dotenv\n",
    "load_dotenv()\n",
    "import getpass\n",
    "import os\n",
    "import requests\n",
    "import ffmpeg\n",
    "import json\n",
    "import time\n",
    "#import asyncio\n",
    "from pydantic import BaseModel, Field\n",
    "from langchain_core.tools import tool\n",
    "from langchain_core.messages import HumanMessage\n",
    "from langgraph.checkpoint.memory import MemorySaver\n",
    "from langgraph.graph import END, START, StateGraph, MessagesState\n",
    "from langgraph.prebuilt import ToolNode\n",
    "from lumaai import LumaAI\n",
    "from typing import Literal"
   ]
  },
  {
   "cell_type": "code",
   "execution_count": 2,
   "id": "fc7c9450-b7f9-49e2-846a-03b8bead1a43",
   "metadata": {},
   "outputs": [],
   "source": [
    "#LUMA\n",
    "client = LumaAI(\n",
    "    auth_token=os.environ.get(\"LUMAAI_API_KEY\"),\n",
    ")\n",
    "#OPENAI\n",
    "if not os.environ.get(\"OPENAI_API_KEY\"):\n",
    "  os.environ[\"OPENAI_API_KEY\"] = getpass.getpass(\"Enter API key for OpenAI: \")\n",
    "\n",
    "from langchain.chat_models import init_chat_model\n",
    "#LANGCHAIN\n",
    "llm = init_chat_model(\"gpt-4o-mini\", model_provider=\"openai\")"
   ]
  },
  {
   "cell_type": "markdown",
   "id": "7872f0c1-be29-4ff6-b651-84397c3b01d8",
   "metadata": {},
   "source": [
    "## SCHEMAS"
   ]
  },
  {
   "cell_type": "code",
   "execution_count": 4,
   "id": "43b5bc31-e0d7-4b01-82c5-763ee977dc6c",
   "metadata": {},
   "outputs": [],
   "source": [
    "class video_gen_schema(BaseModel):\n",
    "    \"\"\"Generates a video using text input and returns a filepath to the video\"\"\"\n",
    "\n",
    "    vid_prompt: str = Field(..., description=\"The textual prompt used in generating the video\")\n",
    "    vid_duration: bool = Field(..., description=\"The duration of the video to generate. A value of FALSE means 5 seconds and a value of TRUE means 9 seconds\")\n",
    "\n",
    "class step_by_step_output_schema(BaseModel):\n",
    "    \"\"\"Prints a storyboard for the user to view in string format\"\"\"\n",
    "    story_description: str = Field(..., description=\"A 200-250 word description of the story\")\n",
    "    character_details: str = Field(..., description=\"A 100-200 word description of each character in the scene\")\n",
    "    background_details: str = Field(..., description=\"A 50-100 description of the scene\")\n",
    "    auditory_details: str = Field(..., description=\"A 50-100 description of the voice profile of each character\")\n",
    "    dialogue_details: str = Field(..., description=\"The parts of the dialogue that require enunciation and emotion\")"
   ]
  },
  {
   "cell_type": "markdown",
   "id": "a13dc3f3-a4e8-4fd0-9ffc-b7244c81da71",
   "metadata": {},
   "source": [
    "## TOOLS"
   ]
  },
  {
   "cell_type": "code",
   "execution_count": 6,
   "id": "9958d677-52aa-48e2-a95b-5e2278d3254a",
   "metadata": {},
   "outputs": [],
   "source": [
    "@tool(\"video_gen_tool\",args_schema=video_gen_schema)   \n",
    "def generate_vid(vid_prompt: str, vid_duration: bool) -> str:\n",
    "    dur = \"5s\"\n",
    "    if(vid_duration):\n",
    "        dur = \"9s\"\n",
    "    generation = client.generations.create(\n",
    "        prompt=vid_prompt,\n",
    "        model=\"ray-2\",\n",
    "        resolution=\"720p\",\n",
    "        duration=dur\n",
    "    )\n",
    "    completed = False\n",
    "    while not completed:\n",
    "      generation = client.generations.get(id=generation.id)\n",
    "      if generation.state == \"completed\":\n",
    "        completed = True\n",
    "      elif generation.state == \"failed\":\n",
    "        raise RuntimeError(f\"Generation failed: {generation.failure_reason}\")\n",
    "      print(\"Dreaming\")\n",
    "      time.sleep(5)\n",
    "    video_url = generation.assets.video\n",
    "    # download the video\n",
    "    response = requests.get(video_url, stream=True)\n",
    "    with open(f'{generation.id}.mp4', 'wb') as file:\n",
    "        file.write(response.content)\n",
    "    print(f\"File downloaded as {generation.id}.mp4\")\n",
    "@tool(\"storyboard_tool\",args_schema=step_by_step_output_schema)\n",
    "def generate_storyboard(story_description: str,character_details: str,background_details: str,auditory_details: str,dialogue_details: str) -> str:\n",
    "    temp_storyboard = \"STORY ANALYSIS\\n------------------------------\\n\"+story_description+\"\\nCHARACTERS\\n------------------------------\\n\"+character_details\n",
    "    temp_storyboard+=\"\\nBACKGROUND\\n------------------------------\\n\"+background_details+\"\\nAUDIO\\n------------------------------\\n\"+auditory_details+\"\\nDIALOGUE\\n------------------------------\\n\"+dialogue_details\n",
    "    print(temp_storyboard)\n",
    "    return temp_storyboard\n",
    "#########################################CODE ABOVE THIS\n",
    "## BINDING\n",
    "tools = [generate_vid, generate_storyboard]\n",
    "\n",
    "tool_node = ToolNode(tools)\n",
    "\n",
    "model = llm.bind_tools(tools)"
   ]
  },
  {
   "cell_type": "markdown",
   "id": "76812a2d-d0f4-4679-91e2-ed9e49ede09d",
   "metadata": {},
   "source": [
    "## RUNNING MODEL"
   ]
  },
  {
   "cell_type": "code",
   "execution_count": 7,
   "id": "cfcbeb42-ff84-4b08-89ac-e84f2471fedc",
   "metadata": {},
   "outputs": [
    {
     "name": "stdout",
     "output_type": "stream",
     "text": [
      "STORY ANALYSIS\n",
      "------------------------------\n",
      "The scene unfolds in the Montague Museum, a once-grand family home now transformed into a lavish museum reminiscent of Hearst Castle. The opulent surroundings contrast sharply with the emotional intensity of the argument between Elizabeth Montague and Ethan. Elizabeth, a woman in her late thirties with fierce determination, confronts Ethan, a younger man with an air of rebelliousness. As the tension rises, the echoes of their confrontation resonate in the grand hall adorned with historical artifacts, which serve as silent witnesses to their heated exchange.\n",
      "CHARACTERS\n",
      "------------------------------\n",
      "ELIZABETH MONTAGUE: In her late thirties, Elizabeth has piercing blue eyes and shoulder-length dark hair, often styled in an elegant yet assertive manner. She dresses conservatively but stylishly, reflecting her status. Her expression is often intense, filled with anger and frustration.  ETHAN: A younger man in his mid-twenties with tousled hair and a casual, laid-back demeanor. He dresses in casual attire but has an undeniable charm. His youthful defiance is juxtaposed with Elizabeth’s seriousness, and he often wears a sly grin even in tense moments.\n",
      "BACKGROUND\n",
      "------------------------------\n",
      "The museum is filled with lavish decor, from gilded frames to marble sculptures, presenting a stark contrast to the emotional turmoil of the characters. Large windows allow natural light to flood the space, illuminating the intricate details of the historical artifacts. The sound of footsteps echoes against the polished wooden floors, enhancing the gravity of their argument amidst the opulence of their surroundings.\n",
      "AUDIO\n",
      "------------------------------\n",
      "ELIZABETH: Her voice is sharp and commanding, filled with emotion and urgency. She emphasizes key words to convey her intensity. ETHAN: His tone is playful yet defiant, often punctuating his words with a mocking laughter that highlights his rebellious nature. Their voices create a dynamic contrast, filling the museum with tension.\n",
      "DIALOGUE\n",
      "------------------------------\n",
      "ELIZABETH: [Intense] \"You know you can’t tell a soul, right?\" [Emphasizing 'can’t tell a soul']  ETHAN: [Defiant] \"Are you kidding? I’m going to tell everyone! You can’t hide this.\" [Mocking tone, emphasizing 'can’t hide this'].\n",
      "Dreaming\n",
      "Dreaming\n",
      "Dreaming\n",
      "Dreaming\n",
      "Dreaming\n",
      "Dreaming\n",
      "Dreaming\n",
      "Dreaming\n",
      "Dreaming\n",
      "Dreaming\n",
      "Dreaming\n",
      "Dreaming\n",
      "Dreaming\n",
      "Dreaming\n",
      "Dreaming\n",
      "Dreaming\n",
      "Dreaming\n",
      "Dreaming\n",
      "File downloaded as 0591e1a7-219a-4092-80ed-21dad6850175.mp4\n"
     ]
    },
    {
     "data": {
      "text/plain": [
       "'### Storyboard Overview\\n\\n**Scene Description:**\\nThe scene takes place in the Montague Museum, a luxurious and historically rich setting that is a transformed family estate reminiscent of Hearst Castle. The emotional conflict is palpable as Elizabeth Montague confronts Ethan about a secret that must not be disclosed, their argument echoing through the grand halls adorned with exquisite artifacts.\\n\\n---\\n\\n**Characters:**\\n\\n- **Elizabeth Montague:** \\n  - Late thirties, intense demeanor.\\n  - Piercing blue eyes and shoulder-length dark hair. \\n  - Dresses conservatively yet stylishly, reflecting her status.\\n  - Her expressions are often filled with anger and frustration, speaking sharply.\\n\\n- **Ethan:**\\n  - Mid-twenties, casual and laid-back, with tousled hair.\\n  - Dresses in casual attire, embodying youthful rebellion.\\n  - Possesses undeniable charm and often wears a sly grin, even when being defiant.\\n\\n---\\n\\n**Background Details:**\\nThe Montague Museum is opulently decorated with gilded frames, marble sculptures, and large windows allowing natural light to illuminate the space. The polished wooden floors amplify the sound of footsteps, emphasizing the serious tone of their confrontation amidst the grandeur.\\n\\n---\\n\\n**Audio Directions:**\\n- **Elizabeth\\'s Voice:** \\n  - Sharp, commanding, filled with urgency.\\n  - Key phrases are emphasized to convey her emotional intensity.\\n  \\n- **Ethan\\'s Voice:** \\n  - Playful yet defiant, often punctuated with mocking laughter.\\n  - His tone creates a dynamic contrast to Elizabeth\\'s intensity.\\n\\n---\\n\\n**Dialogue with Emphasis:**\\n- **ELIZABETH:** [Intense] \"You know you can’t tell a soul, right?\" *(Emphasizing \\'can’t tell a soul\\')*  \\n- **ETHAN:** [Defiant] \"Are you kidding? I’m going to tell everyone! You can’t hide this.\" *(Mocking tone, emphasizing \\'can’t hide this\\')*\\n\\n---\\n\\n### Video Overview\\n\\nA video has been generated to visually represent the heated dialogue and emotional dynamics between Elizabeth and Ethan within the grand setting of the museum. The visual aesthetic contrasts the opulence of the museum with the intense emotional stakes of the argument.\\n\\nIf you\\'d like to see the video, I can provide the file for you!'"
      ]
     },
     "execution_count": 7,
     "metadata": {},
     "output_type": "execute_result"
    }
   ],
   "source": [
    "# Define the function that determines whether to continue or not\n",
    "def should_continue(state: MessagesState) -> Literal[\"tools\", END]:\n",
    "    messages = state['messages']\n",
    "    last_message = messages[-1]\n",
    "    # If the LLM makes a tool call, then we route to the \"tools\" node\n",
    "    if last_message.tool_calls:\n",
    "        return \"tools\"\n",
    "    # Otherwise, we stop (reply to the user)\n",
    "    return END\n",
    "\n",
    "\n",
    "# Define the function that calls the model\n",
    "def call_model(state: MessagesState):\n",
    "    messages = state['messages']\n",
    "    response = model.invoke(messages)\n",
    "    # We return a list, because this will get added to the existing list\n",
    "    return {\"messages\": [response]}\n",
    "\n",
    "\n",
    "# Define a new graph\n",
    "workflow = StateGraph(MessagesState)\n",
    "\n",
    "# Define the two nodes we will cycle between\n",
    "workflow.add_node(\"agent\", call_model)\n",
    "workflow.add_node(\"tools\", tool_node)\n",
    "\n",
    "# Set the entrypoint as `agent`\n",
    "# This means that this node is the first one called\n",
    "workflow.add_edge(START, \"agent\")\n",
    "\n",
    "# We now add a conditional edge\n",
    "workflow.add_conditional_edges(\n",
    "    # First, we define the start node. We use `agent`.\n",
    "    # This means these are the edges taken after the `agent` node is called.\n",
    "    \"agent\",\n",
    "    # Next, we pass in the function that will determine which node is called next.\n",
    "    should_continue,\n",
    ")\n",
    "\n",
    "# We now add a normal edge from `tools` to `agent`.\n",
    "# This means that after `tools` is called, `agent` node is called next.\n",
    "workflow.add_edge(\"tools\", 'agent')\n",
    "\n",
    "# Initialize memory to persist state between graph runs\n",
    "checkpointer = MemorySaver()\n",
    "\n",
    "# Finally, we compile it!\n",
    "# This compiles it into a LangChain Runnable,\n",
    "# meaning you can use it as you would any other runnable.\n",
    "# Note that we're (optionally) passing the memory when compiling the graph\n",
    "app = workflow.compile(checkpointer=checkpointer)\n",
    "\n",
    "# Use the agent\n",
    "final_state = app.invoke(\n",
    "    {\"messages\": [{\"role\": \"user\", \"content\": \"Generate a storyboard and corresponding video about the following scene: INT. MONTAGUE MUSEUM – MODERN DAYThe once-grand family home, now a tour-driven Hearst Castle-like museum.ELIZABETH MONTAGUE, intense and angry, argues with Ethan.ELIZABETHYou know you can’t tell a soul,right?ETHANAre you kidding? I’m going to telleveryone. You can’t hide this.\"}]},\n",
    "    config={\"configurable\": {\"thread_id\": 42}}\n",
    ")\n",
    "final_state[\"messages\"][-1].content"
   ]
  },
  {
   "cell_type": "code",
   "execution_count": null,
   "id": "29635ea7-bfbd-41f6-bfcd-a498d6171f07",
   "metadata": {},
   "outputs": [],
   "source": []
  }
 ],
 "metadata": {
  "kernelspec": {
   "display_name": "Python 3 (ipykernel)",
   "language": "python",
   "name": "python3"
  },
  "language_info": {
   "codemirror_mode": {
    "name": "ipython",
    "version": 3
   },
   "file_extension": ".py",
   "mimetype": "text/x-python",
   "name": "python",
   "nbconvert_exporter": "python",
   "pygments_lexer": "ipython3",
   "version": "3.11.3"
  }
 },
 "nbformat": 4,
 "nbformat_minor": 5
}
