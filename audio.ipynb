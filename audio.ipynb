{
 "cells": [
  {
   "cell_type": "code",
   "execution_count": 21,
   "metadata": {},
   "outputs": [],
   "source": [
    "from dotenv import load_dotenv\n",
    "load_dotenv()\n",
    "import getpass\n",
    "import os\n",
    "import glob\n",
    "import uuid\n",
    "import requests\n",
    "import ffmpeg\n",
    "import json\n",
    "import time\n",
    "from elevenlabs.client import ElevenLabs\n",
    "from pydub import AudioSegment"
   ]
  },
  {
   "cell_type": "code",
   "execution_count": 22,
   "metadata": {},
   "outputs": [],
   "source": [
    "#ELEVENLABS\n",
    "elevenlabs_client = ElevenLabs(\n",
    "  api_key=os.getenv(\"ELEVENLABS_API_KEY\"),\n",
    ")"
   ]
  },
  {
   "cell_type": "code",
   "execution_count": 35,
   "metadata": {},
   "outputs": [],
   "source": [
    "voice_mapping = {\n",
    "    \"ETHAN\": \"29vD33N1CtxCmqQRPOHJ\",  # Young and nervous\n",
    "    \"CHARLES MONTAGUE\": \"N2lVS1w4EtoT3dr4eOWO\",  # Booming and imposing\n",
    "    \"SOPHIA\": \"21m00Tcm4TlvDq8ikWAM\"  # Elegant and slightly teasing\n",
    "}"
   ]
  },
  {
   "cell_type": "code",
   "execution_count": 24,
   "metadata": {},
   "outputs": [],
   "source": [
    "def generate_dialogue(dialogue_text: str, voice_id: str) -> str:\n",
    "    response = elevenlabs_client.text_to_speech.convert(\n",
    "        voice_id=voice_id,\n",
    "        optimize_streaming_latency=\"0\",\n",
    "        output_format=\"mp3_44100_128\",\n",
    "        text=dialogue_text,\n",
    "        model_id=\"eleven_turbo_v2\",\n",
    "    )\n",
    "\n",
    "    # Save the file into the raw_audio directory\n",
    "    raw_audio_dir = \"raw_audio\"\n",
    "    os.makedirs(raw_audio_dir, exist_ok=True)\n",
    "    \n",
    "    file_path = os.path.join(raw_audio_dir, f\"{uuid.uuid4()}.mp3\")\n",
    "\n",
    "    with open(file_path, \"wb\") as f:\n",
    "        for chunk in response:\n",
    "            if chunk:\n",
    "                f.write(chunk)\n",
    "\n",
    "    return file_path"
   ]
  },
  {
   "cell_type": "code",
   "execution_count": 32,
   "metadata": {},
   "outputs": [],
   "source": [
    "def process_script(script: str):\n",
    "    lines = script.strip().split(\"\\n\")\n",
    "    current_speaker = None\n",
    "    dialogue = []\n",
    "    audio_files = []\n",
    "\n",
    "    for line in lines:\n",
    "        line = line.strip()\n",
    "        if line.isupper():  # Identify speaker names\n",
    "            if current_speaker and dialogue:  # Process previous speaker's dialogue\n",
    "                full_dialogue = \" \".join(dialogue)\n",
    "                if current_speaker in voice_mapping:\n",
    "                    voice_id = voice_mapping[current_speaker]\n",
    "                    audio_file = generate_dialogue(full_dialogue, voice_id)\n",
    "                    audio_files.append(audio_file)\n",
    "                dialogue = []  # Reset for next speaker\n",
    "            current_speaker = line\n",
    "        elif current_speaker and line:\n",
    "            dialogue.append(line)\n",
    "\n",
    "    # **Process the last dialogue block** (this fixes the issue)\n",
    "    if current_speaker and dialogue:\n",
    "        full_dialogue = \" \".join(dialogue)\n",
    "        if current_speaker in voice_mapping:\n",
    "            voice_id = voice_mapping[current_speaker]\n",
    "            audio_file = generate_dialogue(full_dialogue, voice_id)\n",
    "            audio_files.append(audio_file)\n",
    "\n",
    "    return audio_files\n"
   ]
  },
  {
   "cell_type": "code",
   "execution_count": 33,
   "metadata": {},
   "outputs": [],
   "source": [
    "def combine_audio_files(audio_files, output_file=\"raw_audio/merged_output.mp3\"):\n",
    "    if not audio_files:\n",
    "        print(\"No audio files to combine.\")\n",
    "        return None\n",
    "\n",
    "    combined = AudioSegment.empty()\n",
    "    for file in audio_files:\n",
    "        audio = AudioSegment.from_mp3(file)\n",
    "        combined += audio\n",
    "\n",
    "    combined.export(output_file, format=\"mp3\")\n",
    "    print(f\"Final script audio saved at {output_file}\")\n",
    "\n",
    "    # Delete individual files after merging\n",
    "\n",
    "    for file in audio_files:\n",
    "        os.remove(file)\n",
    "    \n",
    "    return output_file"
   ]
  },
  {
   "cell_type": "code",
   "execution_count": 36,
   "metadata": {},
   "outputs": [
    {
     "name": "stdout",
     "output_type": "stream",
     "text": [
      "Final script audio saved at raw_audio/merged_output.mp3\n"
     ]
    }
   ],
   "source": [
    "script_text = \"\"\"\n",
    "ETHAN\n",
    "Well, I’m Ethan—Ethan Montague,\n",
    "your great-grandson.\n",
    "\n",
    "CHARLES MONTAGUE\n",
    "Great-grandson? I don’t have any\n",
    "great-grandchildren. How old do you\n",
    "think I am, anyway?\n",
    "\n",
    "CHARLES MONTAGUE\n",
    "Sophia, come here! I want you to\n",
    "meet your great-grandson.\n",
    "\n",
    "SOPHIA\n",
    "Charles, how much have you been\n",
    "drinking?\n",
    "\n",
    "CHARLES MONTAGUE\n",
    "Why don’t you show our youngest\n",
    "family member around?\n",
    "\"\"\"\n",
    "\n",
    "if __name__ == \"__main__\":\n",
    "    audio_files = process_script(script_text)\n",
    "    combine_audio_files(audio_files)\n"
   ]
  },
  {
   "cell_type": "code",
   "execution_count": null,
   "metadata": {},
   "outputs": [],
   "source": [
    "class dialogue_schema(BaseModel):\n",
    "    \"\"\"Returns all of the dialogue in a scene to be parsed and choose the voices for the characters in a string format\"\"\"\n",
    "\n",
    "    dialogue_script: str = Field(..., description=\"The parts of the dialogue from each person in the scene\")\n",
    "    character_male: str = Field(..., description=\"American, Young, Male\")\n",
    "    character_female: str = Field(..., description=\"Middle-aged, Female, Elegant, Expressive\")"
   ]
  },
  {
   "cell_type": "code",
   "execution_count": null,
   "metadata": {},
   "outputs": [],
   "source": [
    "@tool(\"dialogue_gen_tool\",args_schema=dialogue_schema)\n",
    "def generate_audio(dialogue_script: str, character_male: str, character_female: str):\n",
    "    "
   ]
  }
 ],
 "metadata": {
  "kernelspec": {
   "display_name": ".venv",
   "language": "python",
   "name": "python3"
  },
  "language_info": {
   "codemirror_mode": {
    "name": "ipython",
    "version": 3
   },
   "file_extension": ".py",
   "mimetype": "text/x-python",
   "name": "python",
   "nbconvert_exporter": "python",
   "pygments_lexer": "ipython3",
   "version": "3.11.3"
  }
 },
 "nbformat": 4,
 "nbformat_minor": 2
}
